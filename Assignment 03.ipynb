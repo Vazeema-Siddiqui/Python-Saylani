{
 "cells": [
  {
   "cell_type": "code",
   "execution_count": 1,
   "metadata": {},
   "outputs": [
    {
     "name": "stdout",
     "output_type": "stream",
     "text": [
      "Enter 1st operand: 2\n",
      "Enter 2nd operand: 8\n",
      "Enter operator: ^\n",
      "256\n"
     ]
    }
   ],
   "source": [
    "# Q:01\n",
    "a = int(input(\"Enter 1st operand: \"))\n",
    "b = int(input(\"Enter 2nd operand: \"))\n",
    "operator = input(\"Enter operator: \")\n",
    "if operator == '+' :\n",
    "    print(a+b)\n",
    "elif operator == '-':\n",
    "    print(a-b)\n",
    "elif operator == '*':\n",
    "    print(a*b)\n",
    "elif operator == '/':\n",
    "    print(a/b)\n",
    "elif operator == '^':\n",
    "    print(a**b)\n",
    "else:\n",
    "    print(\"Invalid operand or operator\")"
   ]
  },
  {
   "cell_type": "code",
   "execution_count": 10,
   "metadata": {},
   "outputs": [
    {
     "name": "stdout",
     "output_type": "stream",
     "text": [
      "There are 5 numeric values in the list:\n",
      "1   25   3.1415   365   42101   "
     ]
    }
   ],
   "source": [
    "# Q:02\n",
    "lst = [1, 25, 3.1415, \"Vazeema\", \"Siddiqui\", 365, 42101]\n",
    "nums = []\n",
    "count = 0\n",
    "for i in lst:\n",
    "    if type(i) is int or type(i) is float:\n",
    "        count += 1\n",
    "        nums.append(i)\n",
    "print(\"There are {} numeric values in the list:\".format(count))\n",
    "for i in nums:\n",
    "    print(i, end=\"   \")"
   ]
  },
  {
   "cell_type": "code",
   "execution_count": 9,
   "metadata": {},
   "outputs": [
    {
     "name": "stdout",
     "output_type": "stream",
     "text": [
      "{'Name': 'Vazeema', 'Age': 19, 'University': 'NEDUET', 'Address': 'Karachi'}\n"
     ]
    }
   ],
   "source": [
    "# Q:03\n",
    "profile = {\n",
    "    \"Name\" : \"Vazeema\",\n",
    "    \"Age\" : 19,\n",
    "    \"University\" : \"NEDUET\",\n",
    "}\n",
    "\n",
    "profile[\"Address\"] = \"Karachi\"\n",
    "print(profile)"
   ]
  },
  {
   "cell_type": "code",
   "execution_count": 8,
   "metadata": {},
   "outputs": [
    {
     "name": "stdout",
     "output_type": "stream",
     "text": [
      "533.25\n"
     ]
    }
   ],
   "source": [
    "# Q:04\n",
    "result = {\n",
    "    \"Physics\" : 96,\n",
    "    \"Chemistry\" : 90.5,\n",
    "    \"Maths\" : 98,\n",
    "    \"English\" : 85.75,\n",
    "    \"Urdu\" : 83,\n",
    "    \"Islamiat\" : 80,\n",
    "    \"Grade\" : \"A1\",\n",
    "    \"Status\" : \"Passed\"\n",
    "}\n",
    "total = 0\n",
    "for i in result.values():\n",
    "    if type(i) is int or type(i) is float:\n",
    "        total += i\n",
    "print(total)"
   ]
  },
  {
   "cell_type": "code",
   "execution_count": 4,
   "metadata": {},
   "outputs": [
    {
     "name": "stdout",
     "output_type": "stream",
     "text": [
      "Apple is repeated 2 times\n",
      "Orange is repeated 2 times\n",
      "Mango is repeated 3 times\n",
      "Cherry is repeated 4 times\n"
     ]
    }
   ],
   "source": [
    "# Q:05\n",
    "fruits = [\"Apple\", \"Orange\", \"Mango\", \"Mango\", \"Strawberry\", \"Orange\", \"Cherry\",\"Cherry\",\"Cherry\", \"Apple\",\"Cherry\",\"Mango\"]\n",
    "dup = {}\n",
    "for i in fruits:\n",
    "    if fruits.count(i) > 1:\n",
    "        dup[i] = fruits.count(i)\n",
    "for key, val in dup.items():\n",
    "    print(\"{} is repeated {} times\".format(key,val))"
   ]
  },
  {
   "cell_type": "code",
   "execution_count": 6,
   "metadata": {},
   "outputs": [
    {
     "name": "stdout",
     "output_type": "stream",
     "text": [
      "Enter a key: Name\n",
      "Enter a value: Siddiqui\n",
      "Key \"Name\" already exists with value \"Vazeema\"\n"
     ]
    }
   ],
   "source": [
    "# Q:06\n",
    "profile = {\n",
    "    \"Name\" : \"Vazeema\",\n",
    "    \"Age\" : 19,\n",
    "    \"University\" : \"NEDUET\",\n",
    "}\n",
    "key = input(\"Enter a key: \")\n",
    "value = input(\"Enter a value: \")\n",
    "if key in profile.keys():\n",
    "    print('Key \"{}\" already exists with value \"{}\"'.format(key, profile[key]))"
   ]
  },
  {
   "cell_type": "code",
   "execution_count": null,
   "metadata": {},
   "outputs": [],
   "source": []
  }
 ],
 "metadata": {
  "kernelspec": {
   "display_name": "Python 3",
   "language": "python",
   "name": "python3"
  },
  "language_info": {
   "codemirror_mode": {
    "name": "ipython",
    "version": 3
   },
   "file_extension": ".py",
   "mimetype": "text/x-python",
   "name": "python",
   "nbconvert_exporter": "python",
   "pygments_lexer": "ipython3",
   "version": "3.7.4"
  }
 },
 "nbformat": 4,
 "nbformat_minor": 2
}
