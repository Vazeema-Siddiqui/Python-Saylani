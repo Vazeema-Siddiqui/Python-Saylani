{
 "cells": [
  {
   "cell_type": "code",
   "execution_count": 1,
   "metadata": {},
   "outputs": [
    {
     "name": "stdout",
     "output_type": "stream",
     "text": [
      "120\n"
     ]
    }
   ],
   "source": [
    "# Q : 01\n",
    "# Function to calculate factorial\n",
    "\n",
    "def factorial(num):\n",
    "    if num < 0:\n",
    "        print(\"Please enter a positive number\")\n",
    "    elif num == 0:\n",
    "        return 1\n",
    "    else:\n",
    "        fact = 1\n",
    "        while num != 1:\n",
    "            fact = fact * num\n",
    "            num -= 1\n",
    "    return fact\n",
    "\n",
    "print(factorial(5))"
   ]
  },
  {
   "cell_type": "code",
   "execution_count": 2,
   "metadata": {},
   "outputs": [
    {
     "name": "stdout",
     "output_type": "stream",
     "text": [
      "String : My name is Vazeema Siddiqui\n",
      "Uppercase letters = 3\n",
      "Lowercase letters = 20\n"
     ]
    }
   ],
   "source": [
    "# Q : 02\n",
    "# Calculate upper and lower case letters in a string\n",
    "\n",
    "def check_case(string):\n",
    "    uppercase = 0\n",
    "    lowercase = 0\n",
    "    for letter in string:\n",
    "        if letter.isupper():\n",
    "            uppercase += 1\n",
    "        elif letter.islower():\n",
    "            lowercase += 1\n",
    "    print(\"String : {}\".format(string))\n",
    "    print(\"Uppercase letters = {}\".format(uppercase))\n",
    "    print(\"Lowercase letters = {}\".format(lowercase))\n",
    "\n",
    "check_case(\"My name is Vazeema Siddiqui\")"
   ]
  },
  {
   "cell_type": "code",
   "execution_count": 4,
   "metadata": {},
   "outputs": [],
   "source": [
    "# Q : 03\n",
    "# Print even numbers from a list\n",
    "def print_even(mylist):\n",
    "    for item in mylist:\n",
    "        if item is int or item is float:\n",
    "            if item % 2 == 0:\n",
    "                print(item, end='\\n')\n",
    "                \n",
    "list_1 = [\"Vazeema\", 1234, 'i', 57, 600, 45, 49, \"Python\"]\n",
    "print_even(list_1)"
   ]
  },
  {
   "cell_type": "code",
   "execution_count": 4,
   "metadata": {},
   "outputs": [
    {
     "name": "stdout",
     "output_type": "stream",
     "text": [
      "String \"level\" is a palindrome\n"
     ]
    }
   ],
   "source": [
    "# Q : 04\n",
    "# check if string is a palindrome\n",
    "def is_palindrome(string):\n",
    "    if string == string[::-1]:\n",
    "        print('String \"{}\" is a palindrome'.format(string))\n",
    "    else:\n",
    "        print('String \"{}\" is not a palindrome'.format(string))\n",
    "        \n",
    "is_palindrome(\"level\")"
   ]
  },
  {
   "cell_type": "code",
   "execution_count": 15,
   "metadata": {},
   "outputs": [
    {
     "name": "stdout",
     "output_type": "stream",
     "text": [
      "Number '11' is a prime number\n"
     ]
    }
   ],
   "source": [
    "# Q : 05\n",
    "# check if number is prime\n",
    "\n",
    "def is_prime(num):\n",
    "    rng = int((num+1)/2)\n",
    "    count = 0\n",
    "    for i in range(2, rng):\n",
    "        if num % i == 0:\n",
    "            count += 1\n",
    "            break\n",
    "    if count == 1:\n",
    "        print(\"Number '{}' is not a prime number\".format(num))\n",
    "    elif count == 0:\n",
    "        print(\"Number '{}' is a prime number\".format(num))\n",
    "            \n",
    "is_prime(11)"
   ]
  },
  {
   "cell_type": "code",
   "execution_count": 16,
   "metadata": {},
   "outputs": [
    {
     "name": "stdout",
     "output_type": "stream",
     "text": [
      "Apples\n",
      "Rice\n",
      "Flour\n",
      "Juice\n",
      "Milk\n",
      "Sugar\n",
      "Eggs\n"
     ]
    }
   ],
   "source": [
    "# Q : 06\n",
    "# print items bought from market \n",
    "\n",
    "def print_items(*items):\n",
    "    for item in items:\n",
    "        print(item, end='\\n')\n",
    "\n",
    "print_items(\"Apples\",\"Rice\",\"Flour\",\"Juice\",\"Milk\",\"Sugar\",\"Eggs\")"
   ]
  },
  {
   "cell_type": "code",
   "execution_count": null,
   "metadata": {},
   "outputs": [],
   "source": []
  }
 ],
 "metadata": {
  "kernelspec": {
   "display_name": "Python 3",
   "language": "python",
   "name": "python3"
  },
  "language_info": {
   "codemirror_mode": {
    "name": "ipython",
    "version": 3
   },
   "file_extension": ".py",
   "mimetype": "text/x-python",
   "name": "python",
   "nbconvert_exporter": "python",
   "pygments_lexer": "ipython3",
   "version": "3.7.4"
  }
 },
 "nbformat": 4,
 "nbformat_minor": 2
}
