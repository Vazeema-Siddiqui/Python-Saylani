{
 "cells": [
  {
   "cell_type": "markdown",
   "metadata": {},
   "source": [
    "# Q : 01\n",
    "\n",
    "## Object Oriented Programming Language:\n",
    "Object-oriented language is a high-level computer programming language that implements objects and their associated procedures within the programming context to create software programs. In object-oriented programming, related data and methods are bound into an object. These objects are reusable within the same and other programs.\n",
    "Prominent object-oriented languages include Java, C++, C#, Python, PHP, JavaScript, Ruby, Perl, Object Pascal, Objective-C, Dart, Swift, Scala, Common Lisp, MATLAB, and Smalltalk.\n"
   ]
  },
  {
   "cell_type": "markdown",
   "metadata": {},
   "source": [
    "# Q : 02\n",
    "\n",
    "## Benefits of OOP:\n",
    "1. Simplicity: software objects model real world objects, so the complexity is reduced and the program structure is very clear; \n",
    "2. Modularity: each object forms a separate entity whose internal workings are decoupled from other parts of the system; \n",
    "3. Modifiability: it is easy to make minor changes in the data representation or the procedures in an OO program. Changes inside a class do not affect any other part of a program, since the only public interface that the external world has to a class is through the use of methods; \n",
    "4. Extensibility: adding new features or responding to changing operating environments can be solved by introducing a few new objects and modifying some existing ones; \n",
    "5. Maintainability: objects can be maintained separately, making locating and fixing problems easier; \n",
    "6. Re-usability: objects can be reused in different programs\n"
   ]
  },
  {
   "cell_type": "markdown",
   "metadata": {},
   "source": [
    "# Q : 03\n",
    "\n",
    "## Function:\n",
    "Functions are defined outside of classes i.e. functions have independent existence. Functions are called independently. They are used to prevent the repetition of code.\n",
    "\n",
    "## Method:\n",
    "Methods are defined inside of and as part of classes. We call a method on an object, and it possibly makes changes to that object.\n"
   ]
  },
  {
   "cell_type": "markdown",
   "metadata": {},
   "source": [
    "# Q : 04\n",
    "\n",
    "## Class\n",
    "A Class is like an object constructor, or a blueprint for creating objects. It is a user-defined prototype for an object that defines a set of attributes that characterize any object of the class.\n",
    "\n",
    "## Object\n",
    "An object is a unique instance of a data structure that is defined by its class. An object comprises both data members (class variables and instance variables) and methods.\n",
    "\n",
    "## Attribute\n",
    "The attributes are data members and methods of a class, accessed via dot notation. They represent the state or quality of the class or instance. \n",
    "\n",
    "## Behaviour\n",
    "The behavior of an object is defined by its methods, which are the functions defined within the class. Behaviour is basically the functionality a class has, how it modifies its data, how it interacts wih other components of program etc.\n"
   ]
  },
  {
   "cell_type": "code",
   "execution_count": 4,
   "metadata": {},
   "outputs": [
    {
     "name": "stdout",
     "output_type": "stream",
     "text": [
      "The car is driving\n",
      "The fuel level is : 92 %\n",
      "Name : BMW\n",
      "Model : 2018\n",
      "Color : Black\n",
      "Price : 500000000\n",
      "Max Speed : 250\n",
      "\n",
      "The car is driving\n",
      "The fuel level is : 100 %\n",
      "Name : Mercedes\n",
      "Model : 2019\n",
      "Color : White\n",
      "Price : 520000000\n",
      "Max Speed : 250\n",
      "\n",
      "The car is not driving\n",
      "The fuel level is : 74 %\n",
      "Name : Corolla\n",
      "Model : 2017\n",
      "Color : Silver\n",
      "Price : 36000000\n",
      "Max Speed : 200\n",
      "\n",
      "The car is driving\n",
      "The fuel level is : 86 %\n",
      "Name : Honda City\n",
      "Model : 2017\n",
      "Color : Maroon\n",
      "Price : 32000000\n",
      "Max Speed : 200\n",
      "\n",
      "The car is not driving\n",
      "The fuel level is : 97 %\n",
      "Name : Mehran\n",
      "Model : 2018\n",
      "Color : Grey\n",
      "Price : 700000\n",
      "Max Speed : 150\n"
     ]
    }
   ],
   "source": [
    "# Q : 05\n",
    "class Car():\n",
    "    def __init__(self, name, model, color, price, max_speed):\n",
    "        self.name = name\n",
    "        self.model = model\n",
    "        self.color = color\n",
    "        self.price = price\n",
    "        self.max_speed = max_speed\n",
    "        \n",
    "    def is_driving(self, state):\n",
    "        if state == True:\n",
    "            print(\"The car is driving\")\n",
    "        else:\n",
    "            print(\"The car is not driving\")\n",
    "            \n",
    "    def fuel_level(self, percent):\n",
    "        print(\"The fuel level is : {} %\".format(percent))\n",
    "        \n",
    "    def details(self):\n",
    "        print(\"Name : {}\".format(self.name))\n",
    "        print(\"Model : {}\".format(self.model))\n",
    "        print(\"Color : {}\".format(self.color))\n",
    "        print(\"Price : {}\".format(self.price))\n",
    "        print(\"Max Speed : {}\".format(self.max_speed))\n",
    "        \n",
    "\n",
    "c1 = Car(\"BMW\", \"2018\", \"Black\", \"500000000\", 250)\n",
    "c2 = Car(\"Mercedes\", \"2019\", \"White\", \"520000000\", 250)\n",
    "c3 = Car(\"Corolla\", \"2017\", \"Silver\", \"36000000\", 200)\n",
    "c4 = Car(\"Honda City\", \"2017\", \"Maroon\", \"32000000\", 200)\n",
    "c5 = Car(\"Mehran\", \"2018\", \"Grey\", \"700000\", 150)\n",
    "        \n",
    "c1.is_driving(True)\n",
    "c1.fuel_level(92)\n",
    "c1.details()\n",
    "print()\n",
    "c2.is_driving(True)\n",
    "c2.fuel_level(100)\n",
    "c2.details()\n",
    "print()\n",
    "c3.is_driving(False)\n",
    "c3.fuel_level(74)\n",
    "c3.details()\n",
    "print()\n",
    "c4.is_driving(True)\n",
    "c4.fuel_level(86)\n",
    "c4.details()\n",
    "print()\n",
    "c5.is_driving(False)\n",
    "c5.fuel_level(97)\n",
    "c5.details()"
   ]
  },
  {
   "cell_type": "code",
   "execution_count": null,
   "metadata": {},
   "outputs": [],
   "source": []
  }
 ],
 "metadata": {
  "kernelspec": {
   "display_name": "Python 3",
   "language": "python",
   "name": "python3"
  },
  "language_info": {
   "codemirror_mode": {
    "name": "ipython",
    "version": 3
   },
   "file_extension": ".py",
   "mimetype": "text/x-python",
   "name": "python",
   "nbconvert_exporter": "python",
   "pygments_lexer": "ipython3",
   "version": "3.7.4"
  }
 },
 "nbformat": 4,
 "nbformat_minor": 2
}
