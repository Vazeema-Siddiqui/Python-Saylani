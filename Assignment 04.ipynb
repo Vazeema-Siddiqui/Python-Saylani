{
 "cells": [
  {
   "cell_type": "code",
   "execution_count": 4,
   "metadata": {},
   "outputs": [
    {
     "name": "stdout",
     "output_type": "stream",
     "text": [
      "First_Name : Vazeema\n",
      "Last_Name : Siddiqui\n",
      "Age : 20\n",
      "City : Karachi\n",
      "\n",
      "First_Name : Vazeema\n",
      "Last_Name : Siddiqui\n",
      "Age : 20\n",
      "City : Karachi\n",
      "Qualification : Undergraduate\n",
      "\n",
      "First_Name : Vazeema\n",
      "Last_Name : Siddiqui\n",
      "Age : 20\n",
      "City : Karachi\n",
      "Qualification : high academic level\n",
      "\n",
      "First_Name : Vazeema\n",
      "Last_Name : Siddiqui\n",
      "Age : 20\n",
      "City : Karachi\n"
     ]
    }
   ],
   "source": [
    "profile = {\"First_Name\":\"Vazeema\", \"Last_Name\":\"Siddiqui\", \"Age\":\"20\", \"City\":\"Karachi\"}\n",
    "\n",
    "for key,value in profile.items(): \n",
    "    print(key, value, sep =\" : \")\n",
    "\n",
    "profile[\"Qualification\"] = \"Undergraduate\"\n",
    "\n",
    "print()\n",
    "for key,value in profile.items(): \n",
    "    print(key, value, sep =\" : \")\n",
    "    \n",
    "profile[\"Qualification\"] = \"high academic level\"\n",
    "\n",
    "print()\n",
    "for key,value in profile.items(): \n",
    "    print(key, value, sep =\" : \")\n",
    "\n",
    "del profile[\"Qualification\"] \n",
    "\n",
    "print()\n",
    "for key,value in profile.items(): \n",
    "    print(key, value, sep =\" : \")\n",
    "    "
   ]
  },
  {
   "cell_type": "code",
   "execution_count": 5,
   "metadata": {},
   "outputs": [
    {
     "name": "stdout",
     "output_type": "stream",
     "text": [
      "Karachi\n",
      "Country : Pakistan\n",
      "Province : Sindh\n",
      "Population : 14,910,400\n",
      "Fact : Largest City\n",
      "\n",
      "Islamabad\n",
      "Country : Pakistan\n",
      "Province : Punjsb\n",
      "Population : 1,014,800\n",
      "Fact : Capital City\n",
      "\n",
      "Faisalabad\n",
      "Country : Pakistan\n",
      "Province : Punjab\n",
      "Population : 14,910,400\n",
      "Fact : Country's Industrial Hub\n",
      "\n"
     ]
    }
   ],
   "source": [
    "cities = {\"Karachi\":{\"Country\":\"Pakistan\", \"Province\":\"Sindh\", \"Population\":\"14,910,400\", \"Fact\":\"Largest City\"},\n",
    "         \"Islamabad\":{\"Country\":\"Pakistan\", \"Province\":\"Punjsb\", \"Population\":\"1,014,800\", \"Fact\":\"Capital City\"},\n",
    "         \"Faisalabad\":{\"Country\":\"Pakistan\", \"Province\":\"Punjab\", \"Population\":\"14,910,400\", \"Fact\":\"Country's Industrial Hub\"}\n",
    "         }\n",
    "for city, info in cities.items():\n",
    "    print(city)\n",
    "    for key, item in info.items():\n",
    "        print(key,item,sep=\" : \")\n",
    "    print()"
   ]
  },
  {
   "cell_type": "code",
   "execution_count": null,
   "metadata": {},
   "outputs": [],
   "source": [
    "opt='Y'\n",
    "while opt == 'Y':\n",
    "    age = int(input(\"Enter your age: \"))\n",
    "    if age < 3:\n",
    "        print(\"Ticket Price = FREE\")\n",
    "    elif age >= 3 and age <= 12:\n",
    "        print(\"Ticket Price = $10\")\n",
    "    else:\n",
    "        print(\"Ticket Price = $15\")\n",
    "    opt = input(\"Do you want to continue Y/N ......     \").upper()\n",
    "    if opt == 'N':\n",
    "        break      "
   ]
  },
  {
   "cell_type": "code",
   "execution_count": null,
   "metadata": {},
   "outputs": [],
   "source": [
    "def favorite_book(title):\n",
    "    print(\"One of my favorite books is: \",title)\n",
    "    \n",
    "fav_book_name = input(\"Enter your favorite book's name: \")\n",
    "favorite_book(fav_book_name)"
   ]
  },
  {
   "cell_type": "code",
   "execution_count": null,
   "metadata": {},
   "outputs": [],
   "source": [
    "from random import randint\n",
    "number = randint(1,30)\n",
    "count = 1\n",
    "while count <= 3:\n",
    "    guess = int(input(\"Guess the number :  \"))\n",
    "    if guess == number:\n",
    "        print(\"Great!!! Your guess is right...\")\n",
    "        break\n",
    "    elif guess > number:\n",
    "        print(\"You guessed too high...\")\n",
    "    elif guess < number:\n",
    "        print(\"You guessed too low...\")"
   ]
  },
  {
   "cell_type": "code",
   "execution_count": null,
   "metadata": {},
   "outputs": [],
   "source": []
  },
  {
   "cell_type": "code",
   "execution_count": null,
   "metadata": {},
   "outputs": [],
   "source": []
  },
  {
   "cell_type": "code",
   "execution_count": null,
   "metadata": {},
   "outputs": [],
   "source": []
  }
 ],
 "metadata": {
  "kernelspec": {
   "display_name": "Python 3",
   "language": "python",
   "name": "python3"
  },
  "language_info": {
   "codemirror_mode": {
    "name": "ipython",
    "version": 3
   },
   "file_extension": ".py",
   "mimetype": "text/x-python",
   "name": "python",
   "nbconvert_exporter": "python",
   "pygments_lexer": "ipython3",
   "version": "3.7.4"
  }
 },
 "nbformat": 4,
 "nbformat_minor": 2
}
