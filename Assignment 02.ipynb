{
 "cells": [
  {
   "cell_type": "code",
   "execution_count": null,
   "metadata": {},
   "outputs": [
    {
     "name": "stdout",
     "output_type": "stream",
     "text": [
      "Enter Your Marks\n",
      "Islamiat: 98\n"
     ]
    }
   ],
   "source": [
    "# Q:1\n",
    "print(\"Enter Your Marks\")\n",
    "isl = int(input(\"Islamiat: \"))\n",
    "eng = int(input(\"English: \"))\n",
    "maths = int(input(\"Maths: \"))\n",
    "phys = int(input(\"Physics: \"))\n",
    "chem = int(input(\"Chemistry: \"))\n",
    "total = isl+eng+maths+phys+chem\n",
    "perc = (total*100)/500\n",
    "if perc >= 80:\n",
    "    grade = \"A1\"\n",
    "elif perc >= 70:\n",
    "    grade = \"A\"\n",
    "elif perc >= 60:\n",
    "    grade = \"B\"\n",
    "elif perc >= 50:\n",
    "    grade = \"C\"\n",
    "elif perc >= 40:\n",
    "    grade = \"D\"\n",
    "else:\n",
    "    grade = \"F\"\n",
    "print(\"************** MARKSHEET **************\")\n",
    "print(\"Total Marks = {}\".format(total))\n",
    "print(\"Percentage = {}\".format(perc))\n",
    "print(\"RESULT: You got '{}' grade\".format(grade))"
   ]
  },
  {
   "cell_type": "code",
   "execution_count": 3,
   "metadata": {},
   "outputs": [
    {
     "name": "stdout",
     "output_type": "stream",
     "text": [
      "Enter any number: 75657\n",
      "The entered number '75657' is ODD\n"
     ]
    }
   ],
   "source": [
    "# Q:2\n",
    "num = int(input(\"Enter any number: \"))\n",
    "if num%2 == 0:\n",
    "    print(\"The entered number '{}' is EVEN\".format(num))\n",
    "else:\n",
    "    print(\"The entered number '{}' is ODD\".format(num))"
   ]
  },
  {
   "cell_type": "code",
   "execution_count": 30,
   "metadata": {},
   "outputs": [
    {
     "name": "stdout",
     "output_type": "stream",
     "text": [
      "The length of the list is: 5\n"
     ]
    }
   ],
   "source": [
    "# Q:3\n",
    "lst = [2,\"Vazeema\",87975,87.34,\"NEDUET\"]\n",
    "length = 0\n",
    "for i in range(len(lst)):\n",
    "    length+=1\n",
    "print(\"The length of the list is: {}\".format(length))"
   ]
  },
  {
   "cell_type": "code",
   "execution_count": 19,
   "metadata": {},
   "outputs": [
    {
     "name": "stdout",
     "output_type": "stream",
     "text": [
      "Sum = 2035.12\n"
     ]
    }
   ],
   "source": [
    "# Q:4\n",
    "sum = 0\n",
    "lst = [2, \"Vazeema\", 1234, 21.12, \"NEDUET\", 10, 768]\n",
    "for i in range(len(lst)):\n",
    "    if type(lst[i]) is int or type(lst[i]) is float:\n",
    "        sum += lst[i]\n",
    "print(\"Sum = {}\".format(sum))"
   ]
  },
  {
   "cell_type": "code",
   "execution_count": 27,
   "metadata": {},
   "outputs": [
    {
     "name": "stdout",
     "output_type": "stream",
     "text": [
      "[10, 1024, 679, 12345]\n",
      "Maximum element of list is: 12345\n"
     ]
    }
   ],
   "source": [
    "# Q:5\n",
    "lst = [10, 1024, 679, 12345]\n",
    "print(lst)\n",
    "max = 0\n",
    "for i in range(len(lst)):\n",
    "    if max<lst[i]:\n",
    "        max = lst[i]\n",
    "print(\"Maximum element of list is: {}\".format(max))"
   ]
  },
  {
   "cell_type": "code",
   "execution_count": 28,
   "metadata": {},
   "outputs": [
    {
     "name": "stdout",
     "output_type": "stream",
     "text": [
      "1\n",
      "1\n",
      "2\n",
      "3\n"
     ]
    }
   ],
   "source": [
    "# Q:6\n",
    "a = [1, 1, 2, 3, 5, 8, 13, 21, 34, 55, 89]\n",
    "for i in range(len(a)):\n",
    "    if a[i] < 5:\n",
    "        print(a[i])"
   ]
  },
  {
   "cell_type": "code",
   "execution_count": null,
   "metadata": {},
   "outputs": [],
   "source": []
  },
  {
   "cell_type": "code",
   "execution_count": null,
   "metadata": {},
   "outputs": [],
   "source": []
  },
  {
   "cell_type": "code",
   "execution_count": null,
   "metadata": {},
   "outputs": [],
   "source": []
  },
  {
   "cell_type": "code",
   "execution_count": null,
   "metadata": {},
   "outputs": [],
   "source": []
  },
  {
   "cell_type": "code",
   "execution_count": null,
   "metadata": {},
   "outputs": [],
   "source": []
  },
  {
   "cell_type": "code",
   "execution_count": null,
   "metadata": {},
   "outputs": [],
   "source": []
  }
 ],
 "metadata": {
  "kernelspec": {
   "display_name": "Python 3",
   "language": "python",
   "name": "python3"
  },
  "language_info": {
   "codemirror_mode": {
    "name": "ipython",
    "version": 3
   },
   "file_extension": ".py",
   "mimetype": "text/x-python",
   "name": "python",
   "nbconvert_exporter": "python",
   "pygments_lexer": "ipython3",
   "version": "3.7.4"
  }
 },
 "nbformat": 4,
 "nbformat_minor": 2
}
